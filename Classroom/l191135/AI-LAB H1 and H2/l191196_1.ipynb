{
 "cells": [
  {
   "cell_type": "code",
   "execution_count": 5,
   "id": "7c39ae00",
   "metadata": {},
   "outputs": [
    {
     "name": "stdout",
     "output_type": "stream",
     "text": [
      "[1. 3. 5. 7.]\n"
     ]
    }
   ],
   "source": [
    "import numpy as np\n",
    "\n",
    "\n",
    "def sameElePosition(array1, array2):\n",
    "    indexArray = np.array([])\n",
    "    index = 0\n",
    "    minimum = min(len(array1), len(array2))\n",
    "    for i in range(0, minimum, 1):\n",
    "        if(array1[i] == array2[i]):\n",
    "            indexArray = np.append(indexArray, i)\n",
    "\n",
    "    return indexArray\n",
    "\n",
    "\n",
    "array1 = np.array([1, 2, 3, 2, 3, 4, 3, 4, 5, 6])\n",
    "array2 = np.array([7, 2, 2, 2, 7, 4, 9, 4, 9, 8])\n",
    "\n",
    "print(sameElePosition(array1, array2))\n"
   ]
  },
  {
   "cell_type": "code",
   "execution_count": null,
   "id": "b3f63d9b",
   "metadata": {},
   "outputs": [],
   "source": []
  }
 ],
 "metadata": {
  "kernelspec": {
   "display_name": "Python 3 (ipykernel)",
   "language": "python",
   "name": "python3"
  },
  "language_info": {
   "codemirror_mode": {
    "name": "ipython",
    "version": 3
   },
   "file_extension": ".py",
   "mimetype": "text/x-python",
   "name": "python",
   "nbconvert_exporter": "python",
   "pygments_lexer": "ipython3",
   "version": "3.9.7"
  }
 },
 "nbformat": 4,
 "nbformat_minor": 5
}
