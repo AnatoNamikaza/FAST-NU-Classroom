{
 "cells": [
  {
   "cell_type": "code",
   "execution_count": 19,
   "id": "7b886a8b",
   "metadata": {},
   "outputs": [
    {
     "name": "stdout",
     "output_type": "stream",
     "text": [
      "True\n"
     ]
    }
   ],
   "source": [
    "#q1\n",
    "def is_pelindrome(line):\n",
    "    for i in range(len(line)):\n",
    "        if line[i] != line[len(line)-i-1]:\n",
    "            return False\n",
    "    return True\n",
    "    \n",
    "line = \"1111\"\n",
    "print(is_pelindrome(line))"
   ]
  },
  {
   "cell_type": "code",
   "execution_count": 3,
   "id": "85149072",
   "metadata": {},
   "outputs": [],
   "source": [
    "#q2\n",
    "def extract_domains(long_line):\n",
    "    lines = long_line.split('\\n')\n",
    "    domains = []\n",
    "    for line in lines:\n",
    "        domain = line.split('@')\n",
    "        if len(domain) > 1:\n",
    "            domain = domain[1].split(sep='.')[0]\n",
    "            domains.append(domain)\n",
    "    return domains\n",
    "\n",
    "long_str = \"\"\"Email_Address,Nickname,Group_Status, Join_Year\n",
    "aa@aaa.com,aa,OWNER,2014\n",
    "bb@bbb.com,BB,mEMBER,2015\n",
    "\"\"\"\n",
    "#print(extract_domains(long_str))"
   ]
  },
  {
   "cell_type": "code",
   "execution_count": 9,
   "id": "ba579fbb",
   "metadata": {},
   "outputs": [
    {
     "name": "stdout",
     "output_type": "stream",
     "text": [
      "[[1], [1, 1], [1, 2, 1], [1, 3, 3, 1], [1, 4, 6, 4, 1]]\n"
     ]
    }
   ],
   "source": [
    "#q3\n",
    "def factorial(x):\n",
    "    if x < 1:\n",
    "        return 1\n",
    "    else:\n",
    "        return(factorial(x-1)*x)\n",
    "#print(factorial(4))\n",
    "\n",
    "def choose(n,r):\n",
    "    # computes n choose r\n",
    "    return(factorial(n)/(factorial(n-r)*factorial(r)))\n",
    "\n",
    "#print(choose(4,3))\n",
    "\n",
    "def pascal_row(row):\n",
    "    elements = []\n",
    "    for i in range(row+1):\n",
    "        elements.append(int(choose(row,i)))\n",
    "    return(elements)\n",
    "#print(pascal_row(2))\n",
    "\n",
    "def pascal(row):\n",
    "    rows = []\n",
    "    for i in range(row):\n",
    "        rows.append(pascal_row(i))\n",
    "    return(rows)\n",
    "print(pascal(5))"
   ]
  },
  {
   "cell_type": "code",
   "execution_count": 12,
   "id": "d3d0057d",
   "metadata": {},
   "outputs": [
    {
     "name": "stdout",
     "output_type": "stream",
     "text": [
      "[2, 3]\n"
     ]
    }
   ],
   "source": [
    "#q4\n",
    "def count_occurance(number,_list):\n",
    "    # find how many times number occured in _list\n",
    "    count = 0\n",
    "    for i in _list:\n",
    "        if number == i:\n",
    "            count = count+1\n",
    "    return count\n",
    "\n",
    "#print(count_occurance(1, [1,2,1]))\n",
    "def get_odds(lst):\n",
    "    odds = []\n",
    "    for i in lst:\n",
    "        if count_occurance(i, lst)%2==1:\n",
    "            odds.append(i)\n",
    "    return odds\n",
    "\n",
    "x= lambda lst: get_odds(lst)\n",
    "print(x([1,2,3,1]))\n"
   ]
  },
  {
   "cell_type": "code",
   "execution_count": null,
   "id": "2ef7d465",
   "metadata": {},
   "outputs": [
    {
     "data": {
      "image/png": "[encoded data removed]",
      "text/plain": [
       "<Figure size 432x288 with 1 Axes>"
      ]
     },
     "metadata": {
      "needs_background": "light"
     },
     "output_type": "display_data"
    }
   ],
   "source": [
    "\n",
    "import pandas as pd\n",
    "import numpy as np\n",
    "import matplotlib.pyplot as plt\n",
    "data = pd.read_csv('CycleRentalData.csv')\n",
    "windspeed = data['windspeed'] # numeric data\n",
    "windspeed = (np.array(windspeed))\n",
    "windspeed.sort()\n",
    "avg_speed = windspeed.mean()\n",
    "std_speed = windspeed.std()\n",
    "median_speed = windspeed[(windspeed.size)//2]\n",
    "\n",
    "plt.plot(data['windspeed'])\n",
    "plt.show()\n",
    "plt.bar(data['hr'],data['windspeed'])\n",
    "plt.show()\n",
    "plt.pie(data['workingday'])\n",
    "plt.show()\n",
    "plt.hist(data['hr'])\n",
    "plt.show()\n",
    "plt.boxplot(data)\n",
    "plt.show()\n",
    "\n",
    "print(\"average speed of wind {}\".format(avg_speed))\n",
    "\n",
    "print(\"median speed of wind {}\".format(median_speed))\n",
    "\n",
    "print(\"standdard deviation of speed of wind {}\".format(std_speed))\n",
    "\n"
   ]
  }
 ],
 "metadata": {
  "kernelspec": {
   "display_name": "Python 3",
   "language": "python",
   "name": "python3"
  },
  "language_info": {
   "codemirror_mode": {
    "name": "ipython",
    "version": 3
   },
   "file_extension": ".py",
   "mimetype": "text/x-python",
   "name": "python",
   "nbconvert_exporter": "python",
   "pygments_lexer": "ipython3",
   "version": "3.8.8"
  }
 },
 "nbformat": 4,
 "nbformat_minor": 5
}
