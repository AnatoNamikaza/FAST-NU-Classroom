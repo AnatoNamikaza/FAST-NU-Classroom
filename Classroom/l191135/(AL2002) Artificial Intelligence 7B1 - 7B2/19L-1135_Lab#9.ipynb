{
  "nbformat": 4,
  "nbformat_minor": 0,
  "metadata": {
    "colab": {
      "name": "q1.ipynb",
      "provenance": [],
      "collapsed_sections": []
    },
    "kernelspec": {
      "name": "python3",
      "display_name": "Python 3"
    },
    "language_info": {
      "name": "python"
    }
  },
  "cells": [
    {
      "cell_type": "code",
      "execution_count": null,
      "metadata": {
        "id": "ksUAeTd6a0bS"
      },
      "outputs": [],
      "source": [
        "import pandas as pd\n",
        "import numpy as np\n",
        "\n",
        "info = pd.read_csv('titanic_train.csv')\n",
        "\n",
        "info['Age'].fillna(int(info['Age'].mean()), inplace=True)\n",
        "\n",
        "info['Embarked'].fillna('C', inplace=True)\n",
        "\n",
        "x = info.drop('Survived',axis=1)\n",
        "y = info['Survived']\n",
        "\n",
        "x.drop(['Ticket', 'PassengerId', 'Name', 'Cabin'],axis=1,inplace=True)\n"
      ]
    },
    {
      "cell_type": "code",
      "source": [
        "#Removing dummy values\n",
        "sex = pd.get_dummies(x,drop_first=True)\n",
        "x=pd.concat([x,sex],axis=1)\n",
        "\n",
        "embark=pd.get_dummies(x,drop_first=True)\n",
        "x=pd.concat([x,embark],axis=1)\n",
        "\n",
        "x= x.drop(['Embarked', 'Sex'],axis=1)"
      ],
      "metadata": {
        "id": "9NO1NVzYtiD2"
      },
      "execution_count": null,
      "outputs": []
    },
    {
      "cell_type": "code",
      "source": [
        "from sklearn.linear_model import LinearRegression\n",
        "Linear = LinearRegression()\n",
        "\n",
        "from sklearn.model_selection import train_test_split\n",
        "\n",
        "X_train, X_test, y_train, y_test = train_test_split(x, y, test_size=0.2, random_state=101)\n",
        "Linear.fit(X_train,y_train)\n",
        "\n"
      ],
      "metadata": {
        "colab": {
          "base_uri": "https://localhost:8080/"
        },
        "id": "awUXyZTDtdR3",
        "outputId": "9d007b6d-ef8a-40a5-fdf2-669124943079"
      },
      "execution_count": null,
      "outputs": [
        {
          "output_type": "execute_result",
          "data": {
            "text/plain": [
              "LinearRegression()"
            ]
          },
          "metadata": {},
          "execution_count": 28
        }
      ]
    },
    {
      "cell_type": "code",
      "source": [
        "import matplotlib.pyplot as plt\n",
        "%matplotlib inline\n",
        "\n",
        "predictions = Linear.predict(X_test)\n",
        "plt.scatter(y_test,predictions)\n"
      ],
      "metadata": {
        "colab": {
          "base_uri": "https://localhost:8080/",
          "height": 282
        },
        "id": "Dv-eAqLDtY6E",
        "outputId": "0b9c8cc2-9617-4796-9941-3a8c9957ba4c"
      },
      "execution_count": null,
      "outputs": [
        {
          "output_type": "execute_result",
          "data": {
            "text/plain": [
              "<matplotlib.collections.PathCollection at 0x7f975c464210>"
            ]
          },
          "metadata": {},
          "execution_count": 29
        },
        {
          "output_type": "display_data",
          "data": {
            "text/plain": [
              "<Figure size 432x288 with 1 Axes>"
            ],
            "image/png": "[encoded data removed]"
          },
          "metadata": {
            "needs_background": "light"
          }
        }
      ]
    },
    {
      "cell_type": "code",
      "source": [
        "from sklearn.metrics import r2_score\n",
        "from sklearn.metrics import mean_squared_error\n",
        "# predicting the accuracy score\n",
        "score=r2_score(y_test,predictions)\n",
        "print(\"r2 socre: \",score)\n",
        "print(\"mean_sqrd_error: \",mean_squared_error(y_test,predictions))\n",
        "print(\"root_mean_squared error of: \",np.sqrt(mean_squared_error(y_test,predictions)))"
      ],
      "metadata": {
        "colab": {
          "base_uri": "https://localhost:8080/"
        },
        "id": "dJfXJtOfZjZs",
        "outputId": "87d68aaf-c736-4054-aedb-46be8558d02f"
      },
      "execution_count": null,
      "outputs": [
        {
          "output_type": "stream",
          "name": "stdout",
          "text": [
            "r2 socre is  0.4305580904347881\n",
            "mean_sqrd_error is== 0.1407565283154857\n",
            "root_mean_squared error of is== 0.3751753300997891\n"
          ]
        }
      ]
    }
  ]
}